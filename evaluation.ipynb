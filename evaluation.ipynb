{
 "cells": [
  {
   "cell_type": "code",
   "execution_count": 1,
   "id": "0e04dc0b",
   "metadata": {},
   "outputs": [
    {
     "name": "stderr",
     "output_type": "stream",
     "text": [
      "D:\\Anaconda\\lib\\site-packages\\paramiko\\transport.py:219: CryptographyDeprecationWarning: Blowfish has been deprecated\n",
      "  \"class\": algorithms.Blowfish,\n"
     ]
    }
   ],
   "source": [
    "import os # for interacting with the operating system\n",
    "import numpy as np # for linear algebra operations\n",
    "import pandas as pd # for data processing and reading/writing CSV files\n",
    "import matplotlib.pyplot as plt # for plotting data\n",
    "import seaborn as sns # for creating beautiful plots\n",
    "import librosa # a library for analyzing audio and music\n",
    "import librosa.display # for displaying audio data\n",
    "from IPython.display import Audio # for playing audio files\n",
    "\n",
    "\n",
    "# Importing necessary modules from scikit-learn library\n",
    "# StandardScaler is used for feature scaling\n",
    "# OneHotEncoder is used for one-hot encoding categorical variables\n",
    "# confusion_matrix and classification_report are used for evaluating the performance of a classifier\n",
    "# train_test_split is used for splitting the data into training and testing sets\n",
    "\n",
    "from sklearn.preprocessing import StandardScaler, OneHotEncoder\n",
    "from sklearn.metrics import confusion_matrix, classification_report\n",
    "from sklearn.model_selection import train_test_split\n",
    "\n",
    "import tensorflow as tf\n",
    "from tensorflow import keras\n",
    "from tensorflow.keras import layers\n",
    "\n",
    "from keras.callbacks import ReduceLROnPlateau\n",
    "from keras.models import Sequential\n",
    "from keras.layers import Dense, Conv1D, MaxPooling1D, Flatten, Dropout, BatchNormalization, AveragePooling1D\n",
    "from keras.utils import np_utils, to_categorical\n",
    "from keras.callbacks import ModelCheckpoint\n",
    "\n",
    "from tensorflow.keras.layers import Input, Conv1D, MaxPooling1D, AveragePooling1D, Flatten, Dense, Dropout\n",
    "from tensorflow.keras.models import Model\n",
    "from sklearn.metrics import roc_curve, auc"
   ]
  },
  {
   "cell_type": "code",
   "execution_count": 2,
   "id": "3d0e4eb6",
   "metadata": {},
   "outputs": [],
   "source": [
    "def evaluate_on_train_and_test(total_model,x_train,y_train,x_test, y_test):\n",
    "    # Evaluate the model on the training data\n",
    "    score = total_model.evaluate(x_train,y_train, verbose = 0)\n",
    "    # Print the accuracy of the model on the training data\n",
    "    print(\"Emotions training Accuracy: {0:.2%}\".format(score[1]))\n",
    "\n",
    "    # Evaluate the model on the test data\n",
    "    score = total_model.evaluate(x_test, y_test, verbose=0)\n",
    "    # Print the accuracy of the model on the test data\n",
    "    print(\"emotions testing Accuracy: {0:.2%}\".format(score[1]))"
   ]
  },
  {
   "cell_type": "code",
   "execution_count": 3,
   "id": "6be1de98",
   "metadata": {},
   "outputs": [],
   "source": [
    "def predict_on_test_data(total_model,x_test,y_test,encoder):\n",
    "    \n",
    "    # Predict on the test data using the total model\n",
    "    predict_all_test = total_model.predict(x_test)\n",
    "\n",
    "    # Convert the predicted results back to the original labels\n",
    "    y_predict_all = encoder.inverse_transform(predict_all_test)\n",
    "    y_test_all = encoder.inverse_transform(y_test)\n",
    "    \n",
    "    return y_test_all,y_predict_all,predict_all_test"
   ]
  },
  {
   "cell_type": "code",
   "execution_count": 4,
   "id": "67406291",
   "metadata": {},
   "outputs": [],
   "source": [
    "def plot_confusion_matrix(y_test_all, y_predict_all,encoder):\n",
    "    \n",
    "    # Creating confusion matrix\n",
    "    conf_matrix = confusion_matrix(y_test_all, y_predict_all)\n",
    "\n",
    "    # Plotting the confusion matrix using seaborn\n",
    "    plt.figure(figsize = (12, 10))\n",
    "    conf_matrix = pd.DataFrame(conf_matrix , index = [i for i in encoder.categories_] , columns = [i for i in encoder.categories_])\n",
    "    sns.heatmap(conf_matrix, linecolor='white', cmap='Blues', linewidth=1, annot=True, fmt='')\n",
    "\n",
    "    # Adding title and labels to the plot\n",
    "    plt.title('Confusion Matrix Emotions', size=20)\n",
    "    plt.xlabel('Predicted Labels', size=14)\n",
    "    plt.ylabel('Actual Labels', size=14)\n",
    "\n",
    "    # Showing the plot\n",
    "    plt.show()"
   ]
  },
  {
   "cell_type": "code",
   "execution_count": 5,
   "id": "51f3fc8a",
   "metadata": {},
   "outputs": [],
   "source": [
    "# Define a function to plot the training and testing loss\n",
    "def plot_loss_graph(cnn_history):\n",
    "\n",
    "    # Get the training loss values from the history object\n",
    "    train_loss = cnn_history.history['loss']\n",
    "    # Get the testing loss values from the history object\n",
    "    test_loss = cnn_history.history['val_loss']\n",
    "\n",
    "    # Create a range of epochs\n",
    "    epochs = range(1, len(train_loss) + 1)\n",
    "\n",
    "    # Create a line plot of the training loss over the epochs\n",
    "    plt.plot(epochs, train_loss, 'b', label='Training loss', color='red')\n",
    "    # Create a line plot of the Testing loss over the epochs\n",
    "    plt.plot(epochs, test_loss, 'b', label='Testing loss')\n",
    "\n",
    "\n",
    "    # Add a title and axis labels\n",
    "    plt.title('Training and Testing loss')\n",
    "    plt.xlabel('Number Of Epochs')\n",
    "    plt.ylabel('Loss')\n",
    "\n",
    "    # Add a legend\n",
    "    plt.legend()\n",
    "\n",
    "    # Display the plot\n",
    "    plt.show()\n",
    "    \n",
    "    return epochs"
   ]
  },
  {
   "cell_type": "code",
   "execution_count": 6,
   "id": "12b253b2",
   "metadata": {},
   "outputs": [],
   "source": [
    "# Define a function to plot the training and testing accuracy\n",
    "def plot_accuracy_graph(cnn_history,epochs):\n",
    "\n",
    "    # Clear any previous plots\n",
    "    plt.clf()                                                \n",
    "\n",
    "    # Get the training accuracy values from the history object\n",
    "    train_accuracy = cnn_history.history['accuracy']\n",
    "    # Get the Testing accuracy values from the history object\n",
    "    test_accuracy = cnn_history.history['val_accuracy']\n",
    "\n",
    "    # Create a line plot of the training accuracy over the epochs\n",
    "    plt.plot(epochs, train_accuracy, 'b', label='Training accuracy', color='red')\n",
    "    # Create a line plot of the Testing accuracy over the epochs\n",
    "    plt.plot(epochs, test_accuracy, 'b', label='Testing accuracy',color='green')\n",
    "\n",
    "    # Add a title and axis labels\n",
    "    plt.title('Training and Testing accuracy')\n",
    "    plt.xlabel('Number Of Epochs')\n",
    "    plt.ylabel('Accuracy')\n",
    "\n",
    "    # Add a legend\n",
    "    plt.legend()\n",
    "\n",
    "    # Display the plot\n",
    "    plt.show()"
   ]
  },
  {
   "cell_type": "code",
   "execution_count": null,
   "id": "f231e6c1",
   "metadata": {},
   "outputs": [],
   "source": []
  }
 ],
 "metadata": {
  "kernelspec": {
   "display_name": "Python 3 (ipykernel)",
   "language": "python",
   "name": "python3"
  },
  "language_info": {
   "codemirror_mode": {
    "name": "ipython",
    "version": 3
   },
   "file_extension": ".py",
   "mimetype": "text/x-python",
   "name": "python",
   "nbconvert_exporter": "python",
   "pygments_lexer": "ipython3",
   "version": "3.9.13"
  }
 },
 "nbformat": 4,
 "nbformat_minor": 5
}
