{
 "cells": [
  {
   "cell_type": "code",
   "execution_count": 1,
   "id": "59a87935",
   "metadata": {},
   "outputs": [
    {
     "name": "stderr",
     "output_type": "stream",
     "text": [
      "D:\\Anaconda\\lib\\site-packages\\paramiko\\transport.py:219: CryptographyDeprecationWarning: Blowfish has been deprecated\n",
      "  \"class\": algorithms.Blowfish,\n"
     ]
    }
   ],
   "source": [
    "import os # for interacting with the operating system\n",
    "import numpy as np # for linear algebra operations\n",
    "import pandas as pd # for data processing and reading/writing CSV files\n",
    "import matplotlib.pyplot as plt # for plotting data\n",
    "import seaborn as sns # for creating beautiful plots\n",
    "import librosa # a library for analyzing audio and music\n",
    "import librosa.display # for displaying audio data\n",
    "from IPython.display import Audio # for playing audio files\n",
    "\n",
    "\n",
    "# Importing necessary modules from scikit-learn library\n",
    "# StandardScaler is used for feature scaling\n",
    "# OneHotEncoder is used for one-hot encoding categorical variables\n",
    "# confusion_matrix and classification_report are used for evaluating the performance of a classifier\n",
    "# train_test_split is used for splitting the data into training and testing sets\n",
    "\n",
    "from sklearn.preprocessing import StandardScaler, OneHotEncoder\n",
    "from sklearn.metrics import confusion_matrix, classification_report\n",
    "from sklearn.model_selection import train_test_split\n",
    "\n",
    "import tensorflow as tf\n",
    "from tensorflow import keras\n",
    "from tensorflow.keras import layers\n",
    "\n",
    "from keras.callbacks import ReduceLROnPlateau\n",
    "from keras.models import Sequential\n",
    "from keras.layers import Dense, Conv1D, MaxPooling1D, Flatten, Dropout, BatchNormalization, AveragePooling1D\n",
    "from keras.utils import np_utils, to_categorical\n",
    "from keras.callbacks import ModelCheckpoint\n",
    "\n",
    "from tensorflow.keras.layers import Input, Conv1D, MaxPooling1D, AveragePooling1D, Flatten, Dense, Dropout\n",
    "from tensorflow.keras.models import Model\n",
    "\n",
    "# Import json module\n",
    "import json"
   ]
  },
  {
   "cell_type": "code",
   "execution_count": 2,
   "id": "d442c419",
   "metadata": {},
   "outputs": [],
   "source": [
    "def save_model(total_model):\n",
    "    # Set the name of the model and the directory to save it in\n",
    "    model_name = 'model.h5'\n",
    "    save_directory = os.path.join(os.getcwd(), \"D:\\\\final_voice_model_3\\\\trained_models\")\n",
    "\n",
    "    # Check if the save directory exists, if not create it\n",
    "    if not os.path.isdir(save_directory):\n",
    "        os.makedirs(save_directory)\n",
    "\n",
    "    # Save model and weights\n",
    "    model_path = os.path.join(save_directory, model_name)\n",
    "    total_model.save(model_path)\n",
    "\n",
    "    # Print message to confirm model was saved\n",
    "    print('Saved trained model at %s ' % model_path)\n",
    "    \n",
    "    # Convert model to json format\n",
    "    model_json = total_model.to_json()\n",
    "\n",
    "    # Open a json file named \"model.json\" in write mode\n",
    "    with open(\"D:\\\\final_voice_model_3\\\\trained_models\\\\model.json\", \"w\") as json_file:\n",
    "        # Write the json representation of the model to the file\n",
    "        json_file.write(model_json)\n",
    "    \n",
    "    # \"\"\"This code snippet save the architecture of the model in json format\n",
    "    # and write the json object in a file named \"model.json\"\"\"\""
   ]
  },
  {
   "cell_type": "code",
   "execution_count": null,
   "id": "9d82eae3",
   "metadata": {},
   "outputs": [],
   "source": []
  }
 ],
 "metadata": {
  "kernelspec": {
   "display_name": "Python 3 (ipykernel)",
   "language": "python",
   "name": "python3"
  },
  "language_info": {
   "codemirror_mode": {
    "name": "ipython",
    "version": 3
   },
   "file_extension": ".py",
   "mimetype": "text/x-python",
   "name": "python",
   "nbconvert_exporter": "python",
   "pygments_lexer": "ipython3",
   "version": "3.9.13"
  }
 },
 "nbformat": 4,
 "nbformat_minor": 5
}
