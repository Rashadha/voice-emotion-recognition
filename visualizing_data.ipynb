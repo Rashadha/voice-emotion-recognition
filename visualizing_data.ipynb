{
 "cells": [
  {
   "cell_type": "code",
   "execution_count": 1,
   "id": "6c3b5818",
   "metadata": {},
   "outputs": [
    {
     "name": "stderr",
     "output_type": "stream",
     "text": [
      "D:\\Anaconda\\lib\\site-packages\\paramiko\\transport.py:219: CryptographyDeprecationWarning: Blowfish has been deprecated\n",
      "  \"class\": algorithms.Blowfish,\n"
     ]
    }
   ],
   "source": [
    "import os # for interacting with the operating system\n",
    "import numpy as np # for linear algebra operations\n",
    "import pandas as pd # for data processing and reading/writing CSV files\n",
    "import matplotlib.pyplot as plt # for plotting data\n",
    "import seaborn as sns # for creating beautiful plots\n",
    "import librosa # a library for analyzing audio and music\n",
    "import librosa.display # for displaying audio data\n",
    "from IPython.display import Audio # for playing audio files\n",
    "\n",
    "# Importing necessary modules from scikit-learn library\n",
    "# StandardScaler is used for feature scaling\n",
    "# OneHotEncoder is used for one-hot encoding categorical variables\n",
    "# confusion_matrix and classification_report are used for evaluating the performance of a classifier\n",
    "# train_test_split is used for splitting the data into training and testing sets\n",
    "\n",
    "from sklearn.preprocessing import StandardScaler, OneHotEncoder\n",
    "from sklearn.metrics import confusion_matrix, classification_report\n",
    "from sklearn.model_selection import train_test_split\n",
    "\n",
    "import tensorflow as tf\n",
    "from tensorflow import keras\n",
    "from tensorflow.keras import layers\n",
    "\n",
    "from keras.callbacks import ReduceLROnPlateau\n",
    "from keras.models import Sequential\n",
    "from keras.layers import Dense, Conv1D, MaxPooling1D, Flatten, Dropout, BatchNormalization, AveragePooling1D\n",
    "from keras.utils import np_utils, to_categorical\n",
    "from keras.callbacks import ModelCheckpoint\n",
    "\n",
    "from tensorflow.keras.layers import Input, Conv1D, MaxPooling1D, AveragePooling1D, Flatten, Dense, Dropout\n",
    "from tensorflow.keras.models import Model"
   ]
  },
  {
   "cell_type": "code",
   "execution_count": 2,
   "id": "1339203c",
   "metadata": {},
   "outputs": [],
   "source": [
    "def plot_emotion_count(gender,phrase):\n",
    "    # Create a figure object with specified size\n",
    "    fig = plt.figure(figsize=(18, 6))\n",
    "    \n",
    "    # Add a subplot for the count of female emotions\n",
    "    fig.add_subplot(122)\n",
    "    # Set the title for the subplot\n",
    "    plt.title(phrase, size=18)\n",
    "    # Create a countplot of the female emotions, with the specified order\n",
    "    sns.countplot(gender.labels, order = ['angry','calm','disgust',\n",
    "                                           'fear','happy','neutral',\n",
    "                                           'sad','surprise'])\n",
    "    # Set the y-axis label\n",
    "    plt.ylabel('Count', size=14)\n",
    "    # Set the x-axis label\n",
    "    plt.xlabel('Emotions', size=14)\n",
    "    # Remove the top and right spines from the plot\n",
    "    sns.despine(top=True, right=True, left=False, bottom=False)\n",
    "    \n",
    "    # Show the plot\n",
    "    plt.show()"
   ]
  },
  {
   "cell_type": "code",
   "execution_count": 3,
   "id": "74d5358a",
   "metadata": {},
   "outputs": [],
   "source": [
    "def plot_emotion_count_for_females(females):\n",
    "    # Create a figure object with specified size\n",
    "    fig = plt.figure(figsize=(18, 6))\n",
    "    \n",
    "    # Add a subplot for the count of female emotions\n",
    "    fig.add_subplot(122)\n",
    "    # Set the title for the subplot\n",
    "    plt.title('Count of females Emotions', size=18)\n",
    "    # Create a countplot of the female emotions, with the specified order\n",
    "    sns.countplot(females.labels, order = ['angry','calm','disgust',\n",
    "                                           'fear','happy','neutral',\n",
    "                                           'sad','surprise'])\n",
    "    # Set the y-axis label\n",
    "    plt.ylabel('Count', size=14)\n",
    "    # Set the x-axis label\n",
    "    plt.xlabel('Emotions', size=14)\n",
    "    # Remove the top and right spines from the plot\n",
    "    sns.despine(top=True, right=True, left=False, bottom=False)\n",
    "    \n",
    "    # Show the plot\n",
    "    plt.show()"
   ]
  },
  {
   "cell_type": "code",
   "execution_count": 4,
   "id": "02caa67b",
   "metadata": {},
   "outputs": [],
   "source": [
    "# Function to create a waveplot for audio data\n",
    "def plot_waveplot(data, sampling_rate, emotion):\n",
    "    # Create a figure object with specified size\n",
    "    plt.figure(figsize=(11, 4))\n",
    "    # Set the title for the plot\n",
    "    plt.title(f'Waveplot for a {emotion} emotion audio', size=18)\n",
    "    # Display the waveplot of the audio data using librosa\n",
    "    librosa.display.waveshow(data, sr=sampling_rate)\n",
    "    # Show the plot\n",
    "    plt.show()"
   ]
  },
  {
   "cell_type": "code",
   "execution_count": 5,
   "id": "5fc4d985",
   "metadata": {},
   "outputs": [],
   "source": [
    "# Function to create a spectrogram for audio data\n",
    "def plot_spectrogram(data, sampling_rate, emotion):\n",
    "    # Convert the audio data into short-term Fourier transform (STFT)\n",
    "    stft_converted_audio = librosa.stft(data)\n",
    "    # Convert the magnitude of the STFT to decibel (dB) units\n",
    "    db_of_stft_magnitude = librosa.amplitude_to_db(abs(stft_converted_audio))\n",
    "    # Create a figure object with specified size\n",
    "    plt.figure(figsize=(13, 4))\n",
    "    # Set the title for the plot\n",
    "    plt.title('Spectrogram for a {} emotion audio'.format(emotion), size=18)\n",
    "    # Display the spectrogram of the audio data using librosa\n",
    "    librosa.display.specshow(db_of_stft_magnitude, sr=sampling_rate, x_axis='time', y_axis='hz')   \n",
    "    # Add a color bar to the plot\n",
    "    plt.colorbar()"
   ]
  },
  {
   "cell_type": "code",
   "execution_count": null,
   "id": "3af405d9",
   "metadata": {},
   "outputs": [],
   "source": []
  }
 ],
 "metadata": {
  "kernelspec": {
   "display_name": "Python 3 (ipykernel)",
   "language": "python",
   "name": "python3"
  },
  "language_info": {
   "codemirror_mode": {
    "name": "ipython",
    "version": 3
   },
   "file_extension": ".py",
   "mimetype": "text/x-python",
   "name": "python",
   "nbconvert_exporter": "python",
   "pygments_lexer": "ipython3",
   "version": "3.9.13"
  }
 },
 "nbformat": 4,
 "nbformat_minor": 5
}
