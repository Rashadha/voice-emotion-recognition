{
 "cells": [
  {
   "cell_type": "code",
   "execution_count": 1,
   "id": "6e81c545",
   "metadata": {},
   "outputs": [
    {
     "name": "stderr",
     "output_type": "stream",
     "text": [
      "D:\\Anaconda\\lib\\site-packages\\paramiko\\transport.py:219: CryptographyDeprecationWarning: Blowfish has been deprecated\n",
      "  \"class\": algorithms.Blowfish,\n"
     ]
    }
   ],
   "source": [
    "import os # for interacting with the operating system\n",
    "import numpy as np # for linear algebra operations\n",
    "import pandas as pd # for data processing and reading/writing CSV files\n",
    "import matplotlib.pyplot as plt # for plotting data\n",
    "import seaborn as sns # for creating beautiful plots\n",
    "import librosa # a library for analyzing audio and music\n",
    "import librosa.display # for displaying audio data\n",
    "from IPython.display import Audio # for playing audio files\n",
    "\n",
    "# Importing necessary modules from scikit-learn library\n",
    "# StandardScaler is used for feature scaling\n",
    "# OneHotEncoder is used for one-hot encoding categorical variables\n",
    "# confusion_matrix and classification_report are used for evaluating the performance of a classifier\n",
    "# train_test_split is used for splitting the data into training and testing sets\n",
    "\n",
    "from sklearn.preprocessing import StandardScaler, OneHotEncoder\n",
    "from sklearn.metrics import confusion_matrix, classification_report\n",
    "from sklearn.model_selection import train_test_split\n",
    "\n",
    "import tensorflow as tf\n",
    "from tensorflow import keras\n",
    "from tensorflow.keras import layers\n",
    "\n",
    "from keras.callbacks import ReduceLROnPlateau\n",
    "from keras.models import Sequential\n",
    "from keras.layers import Dense, Conv1D, MaxPooling1D, Flatten, Dropout, BatchNormalization, AveragePooling1D\n",
    "from keras.utils import np_utils, to_categorical\n",
    "from keras.callbacks import ModelCheckpoint\n",
    "\n",
    "from tensorflow.keras.layers import Input, Conv1D, MaxPooling1D, AveragePooling1D, Flatten, Dense, Dropout\n",
    "from tensorflow.keras.models import Model"
   ]
  },
  {
   "cell_type": "code",
   "execution_count": 2,
   "id": "a461da22",
   "metadata": {},
   "outputs": [],
   "source": [
    "# Function to add noise to data\n",
    "def add_noise(data):\n",
    "    # Calculate noise amplitude using uniform random value between 0 and 0.04 times the maximum value of data\n",
    "    noise_amplitude = 0.04*np.random.uniform()*np.amax(data)\n",
    "    # Add the calculated noise to the data\n",
    "    data = data + noise_amplitude*np.random.normal(size=data.shape[0])\n",
    "    return data"
   ]
  },
  {
   "cell_type": "code",
   "execution_count": 3,
   "id": "4392b61e",
   "metadata": {},
   "outputs": [],
   "source": [
    "# Function to shift the data\n",
    "def shift(data):\n",
    "    # Calculate the shift range using uniform random value between -5 and 5 multiplied by 1000\n",
    "    shift_range = int(np.random.uniform(low=-5, high = 5)*1000)\n",
    "    # Shift the data using numpy's roll function\n",
    "    return np.roll(data, shift_range)"
   ]
  },
  {
   "cell_type": "code",
   "execution_count": 4,
   "id": "11097173",
   "metadata": {},
   "outputs": [],
   "source": [
    "# Function to increase the speed of the data\n",
    "def increase_speed(data, speed_factor = 1.25):\n",
    "    # Increase the speed of the data using librosa's time_stretch function\n",
    "    return librosa.effects.time_stretch(data, speed_factor)\n",
    "\n",
    "# Function to decrease the speed of the data\n",
    "def decrease_speed(data, speed_factor = 0.75):\n",
    "    # Decrease the speed of the data using librosa's time_stretch function\n",
    "    return librosa.effects.time_stretch(data, speed_factor)"
   ]
  },
  {
   "cell_type": "code",
   "execution_count": 5,
   "id": "3e182d74",
   "metadata": {},
   "outputs": [],
   "source": [
    "# Function to stretch the data\n",
    "def stretch(data, rate=0.70):\n",
    "    # Stretch the data using librosa's time_stretch function\n",
    "    return librosa.effects.time_stretch(data, rate)"
   ]
  },
  {
   "cell_type": "code",
   "execution_count": 6,
   "id": "fe15ac4f",
   "metadata": {},
   "outputs": [],
   "source": [
    "# Function to change the pitch of the data\n",
    "def change_pitch(data, sampling_rate, pitch_factor=0.8):\n",
    "    # Change the pitch of the data using librosa's pitch_shift function\n",
    "    return librosa.effects.pitch_shift(data, sampling_rate, pitch_factor)"
   ]
  },
  {
   "cell_type": "code",
   "execution_count": null,
   "id": "830f70a5",
   "metadata": {},
   "outputs": [],
   "source": []
  }
 ],
 "metadata": {
  "kernelspec": {
   "display_name": "Python 3 (ipykernel)",
   "language": "python",
   "name": "python3"
  },
  "language_info": {
   "codemirror_mode": {
    "name": "ipython",
    "version": 3
   },
   "file_extension": ".py",
   "mimetype": "text/x-python",
   "name": "python",
   "nbconvert_exporter": "python",
   "pygments_lexer": "ipython3",
   "version": "3.9.13"
  }
 },
 "nbformat": 4,
 "nbformat_minor": 5
}
